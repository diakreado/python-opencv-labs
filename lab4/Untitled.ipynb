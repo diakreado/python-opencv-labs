{
 "cells": [
  {
   "cell_type": "code",
   "execution_count": 20,
   "metadata": {},
   "outputs": [],
   "source": [
    "from matplotlib import pyplot as plt\n",
    "import cv2 as cv\n",
    "import numpy as np\n",
    "import math"
   ]
  },
  {
   "cell_type": "code",
   "execution_count": 57,
   "metadata": {},
   "outputs": [],
   "source": [
    "img1 = cv.imread('1.png', cv.IMREAD_GRAYSCALE)\n",
    "img2 = cv.imread('2.png', cv.IMREAD_GRAYSCALE)"
   ]
  },
  {
   "cell_type": "code",
   "execution_count": 58,
   "metadata": {},
   "outputs": [],
   "source": [
    "def sad(a, b) :\n",
    "    return np.mean(np.abs(a.astype(np.float64) - b.astype(np.float64)))"
   ]
  },
  {
   "cell_type": "code",
   "execution_count": 59,
   "metadata": {},
   "outputs": [
    {
     "data": {
      "image/png": "[encoded data removed]",
      "text/plain": [
       "<Figure size 720x360 with 2 Axes>"
      ]
     },
     "metadata": {
      "needs_background": "light"
     },
     "output_type": "display_data"
    }
   ],
   "source": [
    "fig, axes = plt.subplots(ncols=2, figsize=(10, 5))\n",
    "axes[0].imshow(img1,  cmap='gray')\n",
    "axes[1].imshow(img2, cmap='gray')\n",
    "fig.tight_layout()"
   ]
  },
  {
   "cell_type": "code",
   "execution_count": 167,
   "metadata": {},
   "outputs": [],
   "source": [
    "def draw_arrows(image, movement, block_size, color=(255,)):\n",
    "    for i in range(movement.shape[0]):\n",
    "        for j in range(movement.shape[1]):\n",
    "            di, dj = movement[i, j]\n",
    "            if di == 0 and dj == 0:\n",
    "                continue\n",
    "            start_point = (j * block_size + (block_size // 2),      i * block_size + (block_size // 2))\n",
    "            end_point   = (j * block_size + (block_size // 2) + dj, i * block_size + (block_size // 2) + di)\n",
    "            cv.arrowedLine(image, start_point, end_point, color)"
   ]
  },
  {
   "cell_type": "code",
   "execution_count": 205,
   "metadata": {},
   "outputs": [],
   "source": [
    "def fullSearch(img_origin, img_mod, block_size=16, search_size=32) :\n",
    "\n",
    "    movement = np.zeros(shape=(img_origin.shape[0], img_origin.shape[1], 2), dtype=np.int64)\n",
    "        \n",
    "    for i in range(0,img_origin.shape[0] - (search_size + block_size), block_size) :\n",
    "        for j in range(0,img_origin.shape[1] - (search_size + block_size), block_size) :\n",
    "            \n",
    "            left_border   = j\n",
    "            right_border  = j + block_size + 1\n",
    "            bottom_border = i + block_size + 1\n",
    "            top_border    = i\n",
    "\n",
    "            rec_img_origin = img_origin[top_border:bottom_border, left_border:right_border]\n",
    "            \n",
    "            sad_min = -1\n",
    "            k_min   = 0\n",
    "            l_min   = 0\n",
    "            \n",
    "            for k in range(search_size) :\n",
    "                for l in range(search_size) :\n",
    "                    \n",
    "                    left_border_mod   = l                  + i\n",
    "                    right_border_mod  = l + block_size + 1 + i\n",
    "                    bottom_border_mod = k + block_size + 1 + j\n",
    "                    top_border_mod    = k                  + j\n",
    "\n",
    "                    rec_img_mod = img_mod[top_border_mod:bottom_border_mod, left_border_mod:right_border_mod]\n",
    "                    \n",
    "                    sad_step = sad(rec_img_origin, rec_img_mod)\n",
    "                    \n",
    "                    if sad_step < sad_min or sad_min == -1 or \\\n",
    "                       sad_step * 0.9 < sad_min and k + l < k_min + l_min :\n",
    "                        sad_min = sad_step\n",
    "                        k_min   = k\n",
    "                        l_min   = l\n",
    "                          \n",
    "            movement[i//block_size][j//block_size][0] = k_min\n",
    "            movement[i//block_size][j//block_size][1] = l_min\n",
    "            \n",
    "    return movement"
   ]
  },
  {
   "cell_type": "code",
   "execution_count": 208,
   "metadata": {},
   "outputs": [
    {
     "name": "stdout",
     "output_type": "stream",
     "text": [
      "(100, 100, 2)\n"
     ]
    },
    {
     "data": {
      "image/png": "[encoded data removed]",
      "text/plain": [
       "<Figure size 720x360 with 2 Axes>"
      ]
     },
     "metadata": {
      "needs_background": "light"
     },
     "output_type": "display_data"
    }
   ],
   "source": [
    "img1 = cv.imread('1.png', cv.IMREAD_GRAYSCALE)\n",
    "img2 = cv.imread('2.png', cv.IMREAD_GRAYSCALE)\n",
    "\n",
    "block_size  = 10\n",
    "search_size = 30\n",
    "\n",
    "movement = fullSearch(img1, img2, block_size, search_size)\n",
    "\n",
    "print(movement.shape)\n",
    "# print(movement)\n",
    "\n",
    "\n",
    "draw_arrows(img1, movement, block_size, color=150)\n",
    "draw_arrows(img2, movement, block_size, color=150)\n",
    "\n",
    "\n",
    "fig, axes = plt.subplots(ncols=2, figsize=(10, 5))\n",
    "axes[0].imshow(img1,  cmap='gray')\n",
    "axes[1].imshow(img2, cmap='gray')\n",
    "fig.tight_layout()"
   ]
  },
  {
   "cell_type": "code",
   "execution_count": null,
   "metadata": {},
   "outputs": [],
   "source": []
  },
  {
   "cell_type": "code",
   "execution_count": null,
   "metadata": {},
   "outputs": [],
   "source": []
  },
  {
   "cell_type": "code",
   "execution_count": null,
   "metadata": {},
   "outputs": [],
   "source": []
  }
 ],
 "metadata": {
  "kernelspec": {
   "display_name": "Python 3",
   "language": "python",
   "name": "python3"
  },
  "language_info": {
   "codemirror_mode": {
    "name": "ipython",
    "version": 3
   },
   "file_extension": ".py",
   "mimetype": "text/x-python",
   "name": "python",
   "nbconvert_exporter": "python",
   "pygments_lexer": "ipython3",
   "version": "3.6.9"
  }
 },
 "nbformat": 4,
 "nbformat_minor": 4
}
